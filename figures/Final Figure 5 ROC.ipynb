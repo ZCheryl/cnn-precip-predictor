{
 "cells": [
  {
   "cell_type": "code",
   "execution_count": 10,
   "id": "f5ca6acf",
   "metadata": {},
   "outputs": [],
   "source": [
    "import numpy as np\n",
    "import pandas as pd\n",
    "import matplotlib.pyplot as plt\n",
    "import seaborn as sns\n",
    "sns.set_style('white')\n",
    "\n",
    "\n",
    "from sklearn.metrics import roc_curve\n",
    "from sklearn.metrics import auc\n",
    "from sklearn.metrics import f1_score"
   ]
  },
  {
   "cell_type": "markdown",
   "id": "f8cda30d",
   "metadata": {},
   "source": [
    "### DL model results"
   ]
  },
  {
   "cell_type": "code",
   "execution_count": 17,
   "id": "141ca19b",
   "metadata": {},
   "outputs": [
    {
     "data": {
      "text/plain": [
       "(1361, 117)"
      ]
     },
     "execution_count": 17,
     "metadata": {},
     "output_type": "execute_result"
    }
   ],
   "source": [
    "key = '1d_precip_location_final1'\n",
    "rname = 'results/classifier_outcomes_%s.csv' % key\n",
    "outcomes = pd.read_csv(rname, index_col=0, parse_dates=True)\n",
    "outcomes = outcomes[3932:]\n",
    "outcomes.shape"
   ]
  },
  {
   "cell_type": "code",
   "execution_count": 18,
   "id": "2c7af76b",
   "metadata": {},
   "outputs": [],
   "source": [
    "# create confusion matrix for outcome matrix at all quantiles\n",
    "# create ROC matrix for outcome as well - points\n",
    "outcomes_ana = outcomes.copy() # here outcomes is for test period\n",
    "for col in outcomes_ana.columns[1:]:\n",
    "    if outcomes_ana[col].dtypes == 'float64':\n",
    "        outcomes_ana[col] = (outcomes_ana[col]> 0.5)\n",
    "\n",
    "leads = [d for d in range(14)]\n",
    "#quantiles = [0.50, 0.75, 0.80, 0.85, 0.9, 0.95]\n",
    "quantiles = [0.50, 0.75, 0.9, 0.95]\n",
    "points = pd.DataFrame(index=leads)\n",
    "con_outcomes_ana = pd.DataFrame(outcomes_ana['ERA5']) #'ERA5'\n",
    "models=['CNN','MLP']\n",
    "for m in models:\n",
    "    for q in quantiles:\n",
    "        points['%s_%0.2f_TPR' % (m, q)] = leads\n",
    "        points['%s_%0.2f_FPR' % (m, q)] = leads\n",
    "        for l in leads:\n",
    "            label = outcomes_ana['ERA5_%0.2f' % q] #'ERA5'\n",
    "            pred =  outcomes_ana['%s_%d_%0.2f' % (m, l, q)]\n",
    "            TP = (label&pred)\n",
    "            con_outcomes_ana['%s_%d_%0.2f_TP' % (m, l, q)] = TP\n",
    "            TN = (~label&~pred)\n",
    "            con_outcomes_ana['%s_%d_%0.2f_TN' % (m, l, q)] = TN\n",
    "            FP = (~label&pred)\n",
    "            con_outcomes_ana['%s_%d_%0.2f_FP' % (m, l, q)] = FP\n",
    "            FN = (label&~pred)\n",
    "            con_outcomes_ana['%s_%d_%0.2f_FN' % (m, l, q)] = FN\n",
    "            # TP rate = TP/TP+FN\n",
    "            TPR = np.sum(TP)/(np.sum(TP)+np.sum(FN))\n",
    "            # FP rate = FP/FP+TN\n",
    "            FPR = np.sum(FP)/(np.sum(FP)+np.sum(TN))\n",
    "            points.loc[l,'%s_%0.2f_TPR' % (m, q)] = TPR\n",
    "            points.loc[l,'%s_%0.2f_FPR' % (m, q)] = FPR"
   ]
  },
  {
   "cell_type": "markdown",
   "id": "de934ed9",
   "metadata": {},
   "source": [
    "### Benchmark results"
   ]
  },
  {
   "cell_type": "code",
   "execution_count": 19,
   "id": "8347c92a",
   "metadata": {},
   "outputs": [],
   "source": [
    "# benchmark confusion matrix\n",
    "rname = 'results/benchmark_confusion_matrix_apples.csv'\n",
    "con_precip_bm = pd.read_csv(rname, index_col=0, parse_dates=True)"
   ]
  },
  {
   "cell_type": "code",
   "execution_count": 20,
   "id": "5961a149",
   "metadata": {},
   "outputs": [],
   "source": [
    "# ROC matrix for benchmark at a certain Quantile\n",
    "BM_dot = []\n",
    "leads = [d for d in range(14)]\n",
    "for l in leads:\n",
    "    TP = int(con_precip_bm[3932:].filter(regex='_%d_%0.2f_TP' %(l, roc_q)).sum(axis=0))\n",
    "    TN = int(con_precip_bm[3932:].filter(regex='_%d_%0.2f_TN' %(l, roc_q)).sum(axis=0))\n",
    "    FP = int(con_precip_bm[3932:].filter(regex='_%d_%0.2f_FP' %(l, roc_q)).sum(axis=0))\n",
    "    FN = int(con_precip_bm[3932:].filter(regex='_%d_%0.2f_FN' %(l, roc_q)).sum(axis=0))\n",
    "    TPR = TP/(TP+FN)     # TP rate = TP/TP+FN\n",
    "    FPR = FP/(FP+TN)     # FP rate = FP/FP+TN\n",
    "    BM_dot.append([FPR,TPR])"
   ]
  },
  {
   "cell_type": "code",
   "execution_count": 13,
   "id": "ba33fe3a",
   "metadata": {},
   "outputs": [],
   "source": [
    "def roc_curve_prep(roc_q, roc_m):\n",
    "    fpr, tpr = dict(), dict()\n",
    "    precision, recall = dict(), dict()\n",
    "    auc_score, f1 = dict(), dict()\n",
    "    for i in range(14):\n",
    "        fpr['%d' %i], tpr['%d' %i], _ = roc_curve(outcomes['ERA5_%.2f' %roc_q], outcomes['%s_%d_%.2f' %(roc_m, i, roc_q)])\n",
    "        # precision['%d' %i], recall['%d' %i], _ = precision_recall_curve(outcomes['ERA5_%.2f' %roc_q], outcomes['%s_%d_%.2f' %(roc_m, i, roc_q)])\n",
    "        auc_score['%d' %i] = np.round(auc(fpr['%d' %i], tpr['%d' %i]),4)\n",
    "        f1['%d' %i] = np.round(f1_score(outcomes['ERA5_%.2f' %roc_q], (outcomes['%s_%d_%.2f' %(roc_m, i, roc_q)]> 0.5)),4)\n",
    "    return fpr, tpr, precision, recall, auc_score, f1"
   ]
  },
  {
   "cell_type": "code",
   "execution_count": 14,
   "id": "83fbcf50",
   "metadata": {},
   "outputs": [],
   "source": [
    "def roc_plot(roc_q):\n",
    "    # this was test period results\n",
    "\n",
    "    import warnings\n",
    "    warnings.filterwarnings('ignore')\n",
    "\n",
    "    plt.rcParams['figure.figsize'] = [20, 5]\n",
    "\n",
    "    for i in range(14):\n",
    "        plt.subplot(1,4,i//4+1)\n",
    "        plt.plot(fpr['%d' %i], tpr['%d' %i], label='%d lead time ROC curve (AUC = %0.2f)' %(i, auc_score['%d' %i]))\n",
    "        plt.plot([0, 1], [0, 1], 'k--')\n",
    "        plt.xlim([0.0, 1.0])\n",
    "        plt.ylim([0.0, 1.05])\n",
    "        plt.xlabel('False Positive Rate')\n",
    "        plt.ylabel('True Positive Rate')\n",
    "        plt.title('ROC curve of lead time %d and quantile %0.2f' %(i, roc_q))\n",
    "        plt.legend(loc=\"best\")\n",
    "    plt.show()\n",
    "\n",
    "    for i in range(14):\n",
    "        plt.subplot(1,4,i//4+1)\n",
    "        no_skill = 0.1\n",
    "        plt.plot([0, 1], [no_skill, no_skill], 'k--')\n",
    "        plt.plot(recall['%d' %i], precision['%d' %i], label='%d lead time PR curve (F1 score = %0.2f)' % (i, f1['%d' %i]))\n",
    "        plt.xlim([0.0, 1.0])\n",
    "        plt.ylim([0.0, 1.05])\n",
    "        plt.xlabel('Recall')\n",
    "        plt.ylabel('Precision')\n",
    "        plt.title('PR curve of lead time %d and quantile %0.2f' %(i, roc_q))\n",
    "        plt.legend(loc=\"best\")\n",
    "    plt.show()"
   ]
  },
  {
   "cell_type": "code",
   "execution_count": 57,
   "id": "6e5c29e9",
   "metadata": {},
   "outputs": [
    {
     "data": {
      "image/png": "[encoded data removed]",
      "text/plain": [
       "<Figure size 648x288 with 2 Axes>"
      ]
     },
     "metadata": {},
     "output_type": "display_data"
    }
   ],
   "source": [
    "roc_q = 0.90\n",
    "roc_m = 'CNN'\n",
    "fpr, tpr, precision, recall, auc_score, f1 = roc_curve_prep(roc_q, roc_m)\n",
    "\n",
    "lts = [0,4,9,13]\n",
    "\n",
    "plt.rcParams['figure.figsize'] = [9, 4]\n",
    "\n",
    "plt.subplot(1,2,1)\n",
    "colors=['C0','C1','C3','gray']\n",
    "for i,l in enumerate(lts):\n",
    "    plt.plot(fpr['%d' %l], tpr['%d' %l], color=colors[i], \n",
    "             label='%d lead time (AUC = %0.2f)' %(l+1, auc_score['%d' %l]),\n",
    "             linewidth=1)\n",
    "    plt.plot(points.loc[l,'%s_%0.2f_FPR' % (roc_m, roc_q)], points.loc[l,'%s_%0.2f_TPR' % (roc_m, roc_q)],\n",
    "             \"*\", markersize=10, color=colors[i])#, label='%s' %roc_m)\n",
    "    plt.plot([0, 1], [0, 1], 'k--', linewidth=1)\n",
    "    plt.annotate('no skill', xy=(0.82,0.78), fontsize=10, rotation=45)\n",
    "    plt.plot(BM_dot[l][0],BM_dot[l][1], \".\", markersize=10, color=colors[i]) #, label='GEFS')\n",
    "    plt.xlim([-0.01, 1.0])\n",
    "    plt.ylim([0.0, 1.01])\n",
    "plt.plot(2,2, \"*\", markersize=10, color='gray', label='%s' %roc_m)\n",
    "plt.plot(2,2, \".\", markersize=10, color='gray', label='GEFS')   \n",
    "plt.xlabel('False Positive Rate', fontsize=10)\n",
    "plt.ylabel('True Positive Rate (Recall)', fontsize=10)\n",
    "plt.title('ROC curve of %s model at quantile %0.2f' % (roc_m, roc_q), fontsize=11)\n",
    "plt.legend(loc=\"best\", fontsize=9)\n",
    "# plt.savefig('/final_figures/5_1.svg', format='svg', dpi=1200)\n",
    "# plt.savefig('/final_figures/5_1.png')\n",
    "# plt.show()\n",
    "\n",
    "plt.subplot(1,2,2)\n",
    "\n",
    "roc_q = 0.90\n",
    "roc_m = 'MLP'\n",
    "fpr, tpr, precision, recall, auc_score, f1 = roc_curve_prep(roc_q, roc_m)\n",
    "\n",
    "lts = [0,4,9,13]\n",
    "\n",
    "plt.rcParams['figure.figsize'] = [6, 6]\n",
    "\n",
    "colors=['C0','C1','C3','gray']\n",
    "for i,l in enumerate(lts):\n",
    "    plt.plot(fpr['%d' %l], tpr['%d' %l], color=colors[i], \n",
    "             label='%d lead time (AUC = %0.2f)' %(l+1, auc_score['%d' %l]),\n",
    "             linewidth=1)\n",
    "    plt.plot(points.loc[l,'%s_%0.2f_FPR' % (roc_m, roc_q)], points.loc[l,'%s_%0.2f_TPR' % (roc_m, roc_q)], \n",
    "             \"*\", markersize=10, color=colors[i])#, label='%s' %roc_m)\n",
    "    plt.plot([0, 1], [0, 1], 'k--', linewidth=1)\n",
    "    plt.annotate('no skill', xy=(0.82,0.78), fontsize=10, rotation=45)\n",
    "    plt.plot(BM_dot[l][0],BM_dot[l][1], \".\", markersize=10, color=colors[i]) #, label='GEFS')\n",
    "    plt.xlim([-0.01, 1.0])\n",
    "    plt.ylim([0.0, 1.01])\n",
    "\n",
    "plt.plot(2,2, \"*\", markersize=10, color='gray', label='%s' %roc_m)\n",
    "plt.plot(2,2, \".\", markersize=10, color='gray', label='GEFS')   \n",
    "plt.xlabel('False Positive Rate', fontsize=10)\n",
    "plt.ylabel('True Positive Rate (Recall)', fontsize=10)\n",
    "plt.title('ROC curve of %s model at quantile %0.2f' % (roc_m, roc_q), fontsize=11)\n",
    "plt.legend(loc=\"best\", fontsize=9)\n",
    "\n",
    "plt.savefig('/final_figures/5.svg', format='svg', dpi=1200)\n",
    "plt.savefig('/final_figures/5.png')\n",
    "plt.show()"
   ]
  },
  {
   "cell_type": "code",
   "execution_count": null,
   "id": "402c0d84",
   "metadata": {},
   "outputs": [],
   "source": []
  }
 ],
 "metadata": {
  "kernelspec": {
   "display_name": "Python 3",
   "language": "python",
   "name": "python3"
  },
  "language_info": {
   "codemirror_mode": {
    "name": "ipython",
    "version": 3
   },
   "file_extension": ".py",
   "mimetype": "text/x-python",
   "name": "python",
   "nbconvert_exporter": "python",
   "pygments_lexer": "ipython3",
   "version": "3.7.10"
  }
 },
 "nbformat": 4,
 "nbformat_minor": 5
}
