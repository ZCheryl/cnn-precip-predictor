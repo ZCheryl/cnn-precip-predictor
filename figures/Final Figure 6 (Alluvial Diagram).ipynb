{
 "cells": [
  {
   "cell_type": "code",
   "execution_count": 1,
   "id": "91abd656",
   "metadata": {},
   "outputs": [
    {
     "data": {
      "text/html": [
       "        <script type=\"text/javascript\">\n",
       "        window.PlotlyConfig = {MathJaxConfig: 'local'};\n",
       "        if (window.MathJax) {MathJax.Hub.Config({SVG: {font: \"STIX-Web\"}});}\n",
       "        if (typeof require !== 'undefined') {\n",
       "        require.undef(\"plotly\");\n",
       "        requirejs.config({\n",
       "            paths: {\n",
       "                'plotly': ['https://cdn.plot.ly/plotly-latest.min']\n",
       "            }\n",
       "        });\n",
       "        require(['plotly'], function(Plotly) {\n",
       "            window._Plotly = Plotly;\n",
       "        });\n",
       "        }\n",
       "        </script>\n",
       "        "
      ]
     },
     "metadata": {},
     "output_type": "display_data"
    },
    {
     "data": {
      "text/html": [
       "        <script type=\"text/javascript\">\n",
       "        window.PlotlyConfig = {MathJaxConfig: 'local'};\n",
       "        if (window.MathJax) {MathJax.Hub.Config({SVG: {font: \"STIX-Web\"}});}\n",
       "        if (typeof require !== 'undefined') {\n",
       "        require.undef(\"plotly\");\n",
       "        requirejs.config({\n",
       "            paths: {\n",
       "                'plotly': ['https://cdn.plot.ly/plotly-latest.min']\n",
       "            }\n",
       "        });\n",
       "        require(['plotly'], function(Plotly) {\n",
       "            window._Plotly = Plotly;\n",
       "        });\n",
       "        }\n",
       "        </script>\n",
       "        "
      ]
     },
     "metadata": {},
     "output_type": "display_data"
    }
   ],
   "source": [
    "import chart_studio.plotly as py\n",
    "import pandas as pd\n",
    "import numpy as np\n",
    "from  plotly.offline import init_notebook_mode, iplot\n",
    "init_notebook_mode(connected=True)\n",
    "\n",
    "import plotly.graph_objs as go\n",
    "from plotly.offline import download_plotlyjs, init_notebook_mode, plot, iplot\n",
    "init_notebook_mode(connected=True)"
   ]
  },
  {
   "cell_type": "markdown",
   "id": "861b4c63",
   "metadata": {},
   "source": [
    "Data cleaning for Sankey\n",
    "\n",
    "Graph 1: A particular quantile and a particular lead time\n",
    "- Step 1: get the target column from classifer.csv\n",
    "- Step 2: classify columns into TP, TN, FP, FN\n",
    "- Step 3: get true label column\n",
    "- Step 4: create two df in the following format\n",
    "\n",
    "Node_df\n",
    "\n",
    "|    ID      |label                   |Color|\n",
    "| --- | --- | --- |\n",
    "|    0       |Pred Extreme            |Red|\n",
    "|    1       |Pred No Extreme         |Green|\n",
    "|    2       |Extreme Weather         |Blue|\n",
    "|    3       |No Extreme Weater       |Gray|\n",
    "4\n",
    "5\n",
    "\n",
    "Link_df\n",
    "\n",
    "|Source(pred) |Target(label) |Value    |Color     | \n",
    "| --- | --- | --- | --- |\n",
    "|0            |2             |TP       |Light Red | \n",
    "|0            |3             |FP       |Bright Red    |\n",
    "|1            |2             |FN       |Light green   |\n",
    "|1            |3             |TN       |Bright green  |\n",
    "\n",
    "\n",
    "Link_df\n",
    "\n",
    "|Source(pred) |Target(label) |Value    |Color     | \n",
    "| --- | --- | --- | --- |\n",
    "|0            |2             |TP       |Light Red | \n",
    "|0            |3             |FP       |Bright Red    |\n",
    "|1            |2             |FN       |Light green   |\n",
    "|1            |3             |TN       |Bright green  |\n",
    "|2            |4             |TP       |Light Red | \n",
    "|2            |5             |FP       |Bright Red    |\n",
    "|3            |4             |FN       |Light green   |\n",
    "|3            |5             |TN       |Bright green  |\n"
   ]
  },
  {
   "cell_type": "code",
   "execution_count": 2,
   "id": "04ee8ec6",
   "metadata": {},
   "outputs": [],
   "source": [
    "# read classifier result\n",
    "key = '1d_precip_location_final1' # not v9 but retrained tuned models \n",
    "rname = 'results/classifier_outcomes_%s.csv' % key\n",
    "outcomes = pd.read_csv(rname, index_col=0, parse_dates=True)\n",
    "outcomes = outcomes[3932:]\n",
    "CNN9_0 = (outcomes['CNN_0_0.90']> 0.5)\n",
    "\n",
    "# read benchmark\n",
    "bm_matrix = pd.read_csv('results/benchmark_matrix_precip_apples.csv', index_col=0, parse_dates=True)\n",
    "GEFS9_0 = bm_matrix['GEFS_0_0.90']"
   ]
  },
  {
   "cell_type": "code",
   "execution_count": 3,
   "id": "0aa9562c",
   "metadata": {},
   "outputs": [],
   "source": [
    "# read classifier result\n",
    "key = '1d_precip_location_final1' # not v9 but retrained tuned models \n",
    "rname = 'results/classifier_outcomes_%s.csv' % key\n",
    "outcomes = pd.read_csv(rname, index_col=0, parse_dates=True)\n",
    "outcomes = outcomes[3932:]\n",
    "CNN9_0 = (outcomes['CNN_4_0.90']> 0.5)\n",
    "\n",
    "# read benchmark\n",
    "bm_matrix = pd.read_csv('results/benchmark_matrix_precip_apples.csv', index_col=0, parse_dates=True)\n",
    "GEFS9_0 = bm_matrix['GEFS_4_0.90']"
   ]
  },
  {
   "cell_type": "code",
   "execution_count": 4,
   "id": "520b5956",
   "metadata": {},
   "outputs": [],
   "source": [
    "leads = [d for d in range(14)]\n",
    "quantiles = [0.50, 0.75, 0.9, 0.95]\n",
    "\n",
    "def create_con_matrix_vs_benchmark(key):\n",
    "    rname = 'results/classifier_outcomes_%s.csv' % key\n",
    "    outcomes = pd.read_csv(rname, index_col=0, parse_dates=True)\n",
    "    binary_outcomes = outcomes.copy()\n",
    "    for col in outcomes.columns[1:]:\n",
    "        if outcomes[col].dtypes == 'float64':\n",
    "            binary_outcomes[col] = (outcomes[col]> 0.5)\n",
    "\n",
    "\n",
    "    con_precip_vs = pd.DataFrame(bm_matrix['ERA5']) #'ERA5'\n",
    "\n",
    "    for q in quantiles:\n",
    "        con_precip_vs['ERA_%0.2f_ERA' %q] = outcomes['ERA5_%0.2f' %q]\n",
    "        for l in leads:\n",
    "            label = bm_matrix['ERA5_%0.2f' % q] #'ERA5'\n",
    "            bm_pred =  bm_matrix['GEFS_%d_%0.2f' % (l, q)]\n",
    "            m_pred = pred =  binary_outcomes['CNN_%d_%0.2f' % (l, q)] # this draws from stored variable - binary_outcomes \n",
    "            \n",
    "            con_precip_vs['VS_%d_%0.2f_PPN' % (l, q)] = (label&m_pred&~bm_pred) # corrected wrong bm_pred\n",
    "            con_precip_vs['VS_%d_%0.2f_NNP' % (l, q)] = (~label&~m_pred&bm_pred) # corrected wrong bm_pred\n",
    "            con_precip_vs['VS_%d_%0.2f_PNP' % (l, q)] = (label&~m_pred&bm_pred ) # changed good bm_pred to incorrect because of FN\n",
    "            con_precip_vs['VS_%d_%0.2f_NPN' % (l, q)] = (~label&m_pred&~bm_pred) # change good bm_pred to incorrect because of FP\n",
    "            con_precip_vs['VS_%d_%0.2f_PNN' % (l, q)] = (label&~m_pred&~bm_pred) # unchanged bad pred\n",
    "            con_precip_vs['VS_%d_%0.2f_NPP' % (l, q)] = (~label&m_pred&bm_pred) # unchanged bad pred\n",
    "            con_precip_vs['VS_%d_%0.2f_NNN' % (l, q)] = (~label&~m_pred&~bm_pred) # good as always\n",
    "            con_precip_vs['VS_%d_%0.2f_PPP' % (l, q)] = (label&m_pred&bm_pred) # good as always\n",
    "\n",
    "            'PPP', 'PPN', 'PNP','PNN','NPP','NPN','NNP','NNN'\n",
    "            \n",
    "    return con_precip_vs"
   ]
  },
  {
   "cell_type": "code",
   "execution_count": 5,
   "id": "3e49a91e",
   "metadata": {},
   "outputs": [],
   "source": [
    "con_cube = create_con_matrix_vs_benchmark('1d_precip_location_final1')"
   ]
  },
  {
   "cell_type": "code",
   "execution_count": 6,
   "id": "7be1ef34",
   "metadata": {},
   "outputs": [],
   "source": [
    "# df = con_cube['2011-01-01':'2019-12-31'].filter(regex=\"ERA_0.90|VS_0_0.90\")\n",
    "df = con_cube['2011-01-01':'2019-12-31'].filter(regex=\"ERA_0.90|VS_9_0.90\")"
   ]
  },
  {
   "cell_type": "code",
   "execution_count": 7,
   "id": "be27410a",
   "metadata": {},
   "outputs": [],
   "source": [
    "d = dict(zip(df.columns, [col[-3:] for col in df.columns]))\n",
    "df = df.rename(columns=d)"
   ]
  },
  {
   "cell_type": "code",
   "execution_count": 8,
   "id": "6da54b8c",
   "metadata": {
    "scrolled": true
   },
   "outputs": [
    {
     "data": {
      "text/plain": [
       "ERA     143\n",
       "PPN      28\n",
       "NNP       9\n",
       "PNP       5\n",
       "NPN      93\n",
       "PNN      70\n",
       "NPP      52\n",
       "NNN    1064\n",
       "PPP      40\n",
       "dtype: int64"
      ]
     },
     "execution_count": 8,
     "metadata": {},
     "output_type": "execute_result"
    }
   ],
   "source": [
    "df.sum(axis=0)"
   ]
  },
  {
   "cell_type": "code",
   "execution_count": 9,
   "id": "e7051411",
   "metadata": {},
   "outputs": [],
   "source": [
    "import seaborn as sns\n",
    "diverging_colors =  sns.diverging_palette(220, 20, n=8)"
   ]
  },
  {
   "cell_type": "code",
   "execution_count": 10,
   "id": "f63d0e76",
   "metadata": {},
   "outputs": [
    {
     "data": {
      "image/png": "[encoded data removed]",
      "text/plain": [
       "<Figure size 576x72 with 1 Axes>"
      ]
     },
     "metadata": {
      "needs_background": "light"
     },
     "output_type": "display_data"
    }
   ],
   "source": [
    "sns.palplot(diverging_colors)"
   ]
  },
  {
   "cell_type": "code",
   "execution_count": 11,
   "id": "fd151edf",
   "metadata": {},
   "outputs": [
    {
     "data": {
      "image/png": "[encoded data removed]",
      "text/plain": [
       "<Figure size 576x72 with 1 Axes>"
      ]
     },
     "metadata": {
      "needs_background": "light"
     },
     "output_type": "display_data"
    }
   ],
   "source": [
    "diverging_colors = sns.color_palette(\"RdBu_r\", 8)\n",
    "sns.palplot(diverging_colors)\n"
   ]
  },
  {
   "cell_type": "code",
   "execution_count": 22,
   "id": "6226ddf6",
   "metadata": {},
   "outputs": [
    {
     "data": {
      "text/plain": [
       "(0.142483660130719, 0.4173010380622838, 0.6833525567089581)"
      ]
     },
     "execution_count": 22,
     "metadata": {},
     "output_type": "execute_result"
    }
   ],
   "source": [
    "diverging_colors[0]"
   ]
  },
  {
   "cell_type": "code",
   "execution_count": 12,
   "id": "f4812863",
   "metadata": {},
   "outputs": [],
   "source": [
    "dc1 = 'rgba'+str(diverging_colors[0])\n",
    "dc2 = 'rgba'+str(diverging_colors[1])\n",
    "dc3 = 'rgba'+str(diverging_colors[2])\n",
    "dc4 = 'rgba'+str(diverging_colors[3])\n",
    "dc5 = 'rgba'+str(diverging_colors[4])\n",
    "dc6 = 'rgba'+str(diverging_colors[5])\n",
    "dc7 = 'rgba'+str(diverging_colors[6])\n",
    "dc8 = 'rgba'+str(diverging_colors[7])"
   ]
  },
  {
   "cell_type": "code",
   "execution_count": 13,
   "id": "c2016ab0",
   "metadata": {},
   "outputs": [
    {
     "data": {
      "text/plain": [
       "'rgba(0.142483660130719, 0.4173010380622838, 0.6833525567089581, 0.5)'"
      ]
     },
     "execution_count": 13,
     "metadata": {},
     "output_type": "execute_result"
    }
   ],
   "source": [
    "dc1[:-1]+', 0.5)'"
   ]
  },
  {
   "cell_type": "code",
   "execution_count": 14,
   "id": "67c9797c",
   "metadata": {},
   "outputs": [],
   "source": [
    "dc1_a = dc1[:-1]+', 0.5)'\n",
    "dc2_a = dc2[:-1]+', 0.5)'\n",
    "dc3_a = dc3[:-1]+', 0.5)'\n",
    "dc4_a = dc4[:-1]+', 0.5)'\n",
    "dc5_a = dc5[:-1]+', 0.5)'\n",
    "dc6_a = dc6[:-1]+', 0.5)'\n",
    "dc7_a = dc7[:-1]+', 0.5)'\n",
    "dc8_a = dc8[:-1]+', 0.5)'"
   ]
  },
  {
   "cell_type": "code",
   "execution_count": 15,
   "id": "fad1e14e",
   "metadata": {},
   "outputs": [],
   "source": [
    "df_nodes = {'ID': [0,1,2,3,4,5,6,7,8,9,10,11,12,13], 'label': ['Positive', 'Negative', 'TP', 'FN','FP', 'TN', 'PPP', 'PPN', 'PNP','PNN','NPP','NPN','NNP','NNN'],\n",
    "           'color': ['#D0CECE', '#D0CECE',dc1,dc8,dc7,dc2,dc2,dc1,dc8,dc6,dc5,dc7,dc3,dc4]}\n",
    "df_nodes = pd.DataFrame(data=df_nodes)\n",
    "df_links = {'source': [0,0,1,1,2,2,3,3,4,4,5,5], 'target': [2,3,4,5,6,7,8,9,10,11,12,13], \n",
    "            'value':[df['PPP'].sum()+df['PPN'].sum(), \n",
    "                     df['PNP'].sum()+df['PNN'].sum(), \n",
    "                     df['NPP'].sum()+df['NPN'].sum(), \n",
    "                     df['NNP'].sum()+df['NNN'].sum(),\n",
    "                     df['PPP'].sum(),\n",
    "                     df['PPN'].sum(),\n",
    "                     df['PNP'].sum(),\n",
    "                     df['PNN'].sum(),\n",
    "                     df['NPP'].sum(), \n",
    "                     df['NPN'].sum(), \n",
    "                     df['NNP'].sum(), \n",
    "                     df['NNN'].sum()],\n",
    "            'color':[dc1_a, dc8_a, dc7_a, dc2_a,\n",
    "                     dc3_a, dc1_a, dc8_a, dc6_a, dc5_a, dc7_a, dc2_a, dc4_a]}\n",
    "df_links = pd.DataFrame(data=df_links)"
   ]
  },
  {
   "cell_type": "code",
   "execution_count": 23,
   "id": "f639434d",
   "metadata": {
    "scrolled": false
   },
   "outputs": [
    {
     "data": {
      "application/vnd.plotly.v1+json": {
       "config": {
        "linkText": "Export to plot.ly",
        "plotlyServerURL": "https://plot.ly",
        "showLink": false
       },
       "data": [
        {
         "arrangement": "snap",
         "link": {
          "color": [
           "rgba(0.142483660130719, 0.4173010380622838, 0.6833525567089581, 0.5)",
           "rgba(0.7118800461361015, 0.12179930795847749, 0.18169934640522878, 0.5)",
           "rgba(0.8622837370242215, 0.42952710495963087, 0.34271434063821604, 0.5)",
           "rgba(0.32349096501345653, 0.6149173394848136, 0.7854671280276817, 0.5)",
           "rgba(0.6549019607843138, 0.8143790849673204, 0.8941176470588236, 0.5)",
           "rgba(0.142483660130719, 0.4173010380622838, 0.6833525567089581, 0.5)",
           "rgba(0.7118800461361015, 0.12179930795847749, 0.18169934640522878, 0.5)",
           "rgba(0.9686274509803922, 0.7176470588235294, 0.6, 0.5)",
           "rgba(0.982006920415225, 0.9061899269511726, 0.8615916955017301, 0.5)",
           "rgba(0.8622837370242215, 0.42952710495963087, 0.34271434063821604, 0.5)",
           "rgba(0.32349096501345653, 0.6149173394848136, 0.7854671280276817, 0.5)",
           "rgba(0.8838908112264514, 0.9284890426758939, 0.9530180699730872, 0.5)"
          ],
          "source": [
           0,
           0,
           1,
           1,
           2,
           2,
           3,
           3,
           4,
           4,
           5,
           5
          ],
          "target": [
           2,
           3,
           4,
           5,
           6,
           7,
           8,
           9,
           10,
           11,
           12,
           13
          ],
          "value": [
           68,
           75,
           145,
           1073,
           40,
           28,
           5,
           70,
           52,
           93,
           9,
           1064
          ]
         },
         "node": {
          "color": [
           "#D0CECE",
           "#D0CECE",
           "rgba(0.142483660130719, 0.4173010380622838, 0.6833525567089581)",
           "rgba(0.7118800461361015, 0.12179930795847749, 0.18169934640522878)",
           "rgba(0.8622837370242215, 0.42952710495963087, 0.34271434063821604)",
           "rgba(0.32349096501345653, 0.6149173394848136, 0.7854671280276817)",
           "rgba(0.32349096501345653, 0.6149173394848136, 0.7854671280276817)",
           "rgba(0.142483660130719, 0.4173010380622838, 0.6833525567089581)",
           "rgba(0.7118800461361015, 0.12179930795847749, 0.18169934640522878)",
           "rgba(0.9686274509803922, 0.7176470588235294, 0.6)",
           "rgba(0.982006920415225, 0.9061899269511726, 0.8615916955017301)",
           "rgba(0.8622837370242215, 0.42952710495963087, 0.34271434063821604)",
           "rgba(0.6549019607843138, 0.8143790849673204, 0.8941176470588236)",
           "rgba(0.8838908112264514, 0.9284890426758939, 0.9530180699730872)"
          ],
          "label": [
           "Positive",
           "Negative",
           "TP",
           "FN",
           "FP",
           "TN",
           "PPP",
           "PPN",
           "PNP",
           "PNN",
           "NPP",
           "NPN",
           "NNP",
           "NNN"
          ],
          "line": {
           "color": "black",
           "width": 0
          },
          "pad": 10
         },
         "orientation": "h",
         "type": "sankey",
         "valueformat": ".0f"
        }
       ],
       "layout": {
        "font": {
         "size": 12
        },
        "height": 500,
        "margin": {
         "b": 50,
         "l": 50,
         "pad": 4,
         "r": 50,
         "t": 50
        },
        "title": "Confusion Matrix (Quantile = 0.90, Lead time = 10)",
        "width": 500
       }
      },
      "text/html": [
       "<div>                            <div id=\"8a826087-f6dd-43ea-b14c-8ce23cd9d8d6\" class=\"plotly-graph-div\" style=\"height:500px; width:500px;\"></div>            <script type=\"text/javascript\">                require([\"plotly\"], function(Plotly) {                    window.PLOTLYENV=window.PLOTLYENV || {};                                    if (document.getElementById(\"8a826087-f6dd-43ea-b14c-8ce23cd9d8d6\")) {                    Plotly.newPlot(                        \"8a826087-f6dd-43ea-b14c-8ce23cd9d8d6\",                        [{\"arrangement\": \"snap\", \"link\": {\"color\": [\"rgba(0.142483660130719, 0.4173010380622838, 0.6833525567089581, 0.5)\", \"rgba(0.7118800461361015, 0.12179930795847749, 0.18169934640522878, 0.5)\", \"rgba(0.8622837370242215, 0.42952710495963087, 0.34271434063821604, 0.5)\", \"rgba(0.32349096501345653, 0.6149173394848136, 0.7854671280276817, 0.5)\", \"rgba(0.6549019607843138, 0.8143790849673204, 0.8941176470588236, 0.5)\", \"rgba(0.142483660130719, 0.4173010380622838, 0.6833525567089581, 0.5)\", \"rgba(0.7118800461361015, 0.12179930795847749, 0.18169934640522878, 0.5)\", \"rgba(0.9686274509803922, 0.7176470588235294, 0.6, 0.5)\", \"rgba(0.982006920415225, 0.9061899269511726, 0.8615916955017301, 0.5)\", \"rgba(0.8622837370242215, 0.42952710495963087, 0.34271434063821604, 0.5)\", \"rgba(0.32349096501345653, 0.6149173394848136, 0.7854671280276817, 0.5)\", \"rgba(0.8838908112264514, 0.9284890426758939, 0.9530180699730872, 0.5)\"], \"source\": [0, 0, 1, 1, 2, 2, 3, 3, 4, 4, 5, 5], \"target\": [2, 3, 4, 5, 6, 7, 8, 9, 10, 11, 12, 13], \"value\": [68, 75, 145, 1073, 40, 28, 5, 70, 52, 93, 9, 1064]}, \"node\": {\"color\": [\"#D0CECE\", \"#D0CECE\", \"rgba(0.142483660130719, 0.4173010380622838, 0.6833525567089581)\", \"rgba(0.7118800461361015, 0.12179930795847749, 0.18169934640522878)\", \"rgba(0.8622837370242215, 0.42952710495963087, 0.34271434063821604)\", \"rgba(0.32349096501345653, 0.6149173394848136, 0.7854671280276817)\", \"rgba(0.32349096501345653, 0.6149173394848136, 0.7854671280276817)\", \"rgba(0.142483660130719, 0.4173010380622838, 0.6833525567089581)\", \"rgba(0.7118800461361015, 0.12179930795847749, 0.18169934640522878)\", \"rgba(0.9686274509803922, 0.7176470588235294, 0.6)\", \"rgba(0.982006920415225, 0.9061899269511726, 0.8615916955017301)\", \"rgba(0.8622837370242215, 0.42952710495963087, 0.34271434063821604)\", \"rgba(0.6549019607843138, 0.8143790849673204, 0.8941176470588236)\", \"rgba(0.8838908112264514, 0.9284890426758939, 0.9530180699730872)\"], \"label\": [\"Positive\", \"Negative\", \"TP\", \"FN\", \"FP\", \"TN\", \"PPP\", \"PPN\", \"PNP\", \"PNN\", \"NPP\", \"NPN\", \"NNP\", \"NNN\"], \"line\": {\"color\": \"black\", \"width\": 0}, \"pad\": 10}, \"orientation\": \"h\", \"type\": \"sankey\", \"valueformat\": \".0f\"}],                        {\"font\": {\"size\": 12}, \"height\": 500, \"margin\": {\"b\": 50, \"l\": 50, \"pad\": 4, \"r\": 50, \"t\": 50}, \"title\": \"Confusion Matrix (Quantile = 0.90, Lead time = 10)\", \"width\": 500},                        {\"responsive\": true}                    ).then(function(){\n",
       "                            \n",
       "var gd = document.getElementById('8a826087-f6dd-43ea-b14c-8ce23cd9d8d6');\n",
       "var x = new MutationObserver(function (mutations, observer) {{\n",
       "        var display = window.getComputedStyle(gd).display;\n",
       "        if (!display || display === 'none') {{\n",
       "            console.log([gd, 'removed!']);\n",
       "            Plotly.purge(gd);\n",
       "            observer.disconnect();\n",
       "        }}\n",
       "}});\n",
       "\n",
       "// Listen for the removal of the full notebook cells\n",
       "var notebookContainer = gd.closest('#notebook-container');\n",
       "if (notebookContainer) {{\n",
       "    x.observe(notebookContainer, {childList: true});\n",
       "}}\n",
       "\n",
       "// Listen for the clearing of the current output cell\n",
       "var outputEl = gd.closest('.output');\n",
       "if (outputEl) {{\n",
       "    x.observe(outputEl, {childList: true});\n",
       "}}\n",
       "\n",
       "                        })                };                });            </script>        </div>"
      ]
     },
     "metadata": {},
     "output_type": "display_data"
    }
   ],
   "source": [
    "import matplotlib.pyplot as plt\n",
    "\n",
    "plt.rcParams['figure.figsize'] = [8, 8]\n",
    "\n",
    "data_trace = dict(\n",
    "    type='sankey',\n",
    "    arrangement='snap',\n",
    "#     domain = dict(\n",
    "#       x =  [0,1],\n",
    "#       y =  [0,1]\n",
    "#     ),\n",
    "    orientation = \"h\",\n",
    "    valueformat = \".0f\",\n",
    "    node = dict(\n",
    "      pad = 10,\n",
    "    # thickness = 30,\n",
    "      line = dict(\n",
    "        color = \"black\",\n",
    "        width = 0\n",
    "      ),\n",
    "      label =  df_nodes['label'],\n",
    "      color = df_nodes['color']\n",
    "    ),\n",
    "    link = dict(\n",
    "      source = df_links['source'],\n",
    "      target = df_links['target'],\n",
    "      value = df_links['value'],\n",
    "      color = df_links['color'],\n",
    "  )\n",
    ")\n",
    "\n",
    "layout = dict(\n",
    "        title = \"Confusion Matrix (Quantile = 0.90, Lead time = 10)\",\n",
    "    height = 500,\n",
    "    width = 500,\n",
    "    margin=dict(\n",
    "    l=50,\n",
    "    r=50,\n",
    "    b=50,\n",
    "    t=50,\n",
    "    pad=4\n",
    "    ),\n",
    "    font = dict(\n",
    "      size = 12),\n",
    ")\n",
    "\n",
    "fig = dict(data=[data_trace], layout=layout)\n",
    "iplot(fig, validate=False)"
   ]
  },
  {
   "cell_type": "code",
   "execution_count": 36,
   "id": "8a99336b",
   "metadata": {},
   "outputs": [],
   "source": [
    "df_nodes = {'ID': [0, 1, 2, 3, 4, 5], 'label': ['Positive', 'Negative', 'CNN Positive', 'CNN Negative', 'BM_Positive', 'BM_Negative'],\n",
    "           'color': ['#1f77b4', '#7f7f7f', '#1f77b4', '#7f7f7f', '#1f77b4', '#7f7f7f']}\n",
    "df_nodes = pd.DataFrame(data=df_nodes)\n",
    "df_links = {'source': [0, 0, 1, 1, 2, 2, 3, 3], 'target': [2, 3, 2, 3, 4, 5, 4, 5], \n",
    "            'value':[df['PPP'].sum()+df['PPN'].sum(), \n",
    "                     df['NPP'].sum()+df['NPN'].sum(), \n",
    "                     df['PNP'].sum()+df['PNN'].sum(), \n",
    "                     df['NNP'].sum()+df['NNN'].sum(),\n",
    "                     df['PPP'].sum()+df['NPP'].sum(), \n",
    "                     df['PPN'].sum()+df['NPN'].sum(), \n",
    "                     df['PNP'].sum()+df['NNP'].sum(), \n",
    "                     df['PNN'].sum()+df['NNN'].sum()],\n",
    "            'color':['rgba(255, 127, 14, 0.3)', 'rgba(255, 127, 14, 0.8)', \n",
    "                     'rgba(44, 160, 44, 0.8)', 'rgba(44, 160, 44, 0.3)',\n",
    "                     'rgba(255, 127, 14, 0.3)', 'rgba(255, 127, 14, 0.8)', \n",
    "                     'rgba(44, 160, 44, 0.8)', 'rgba(44, 160, 44, 0.3)']}\n",
    "df_links = pd.DataFrame(data=df_links)"
   ]
  },
  {
   "cell_type": "code",
   "execution_count": null,
   "id": "fdd317c5",
   "metadata": {},
   "outputs": [],
   "source": []
  }
 ],
 "metadata": {
  "kernelspec": {
   "display_name": "Python 3",
   "language": "python",
   "name": "python3"
  },
  "language_info": {
   "codemirror_mode": {
    "name": "ipython",
    "version": 3
   },
   "file_extension": ".py",
   "mimetype": "text/x-python",
   "name": "python",
   "nbconvert_exporter": "python",
   "pygments_lexer": "ipython3",
   "version": "3.7.10"
  }
 },
 "nbformat": 4,
 "nbformat_minor": 5
}
